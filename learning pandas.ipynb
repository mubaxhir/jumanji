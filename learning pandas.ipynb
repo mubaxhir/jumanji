{
 "cells": [
  {
   "cell_type": "code",
   "execution_count": 12,
   "metadata": {},
   "outputs": [
    {
     "data": {
      "text/plain": [
       "0    1\n",
       "1    2\n",
       "2    3\n",
       "3    4\n",
       "dtype: int64"
      ]
     },
     "execution_count": 12,
     "metadata": {},
     "output_type": "execute_result"
    }
   ],
   "source": [
    "import pandas as pd # pandas is the data structure or data frame of python\n",
    "from pandas import DataFrame,Series #series provide us indexing\n",
    "s= Series([1,2,3,4]) \n",
    "s"
   ]
  },
  {
   "cell_type": "code",
   "execution_count": 13,
   "metadata": {},
   "outputs": [
    {
     "data": {
      "text/plain": [
       "0    pakistan\n",
       "1     america\n",
       "2       india\n",
       "3       china\n",
       "dtype: object"
      ]
     },
     "execution_count": 13,
     "metadata": {},
     "output_type": "execute_result"
    }
   ],
   "source": [
    "b = Series(['pakistan','america','india','china'])\n",
    "b"
   ]
  },
  {
   "cell_type": "code",
   "execution_count": 14,
   "metadata": {},
   "outputs": [
    {
     "data": {
      "text/plain": [
       "a    pakistan\n",
       "b     america\n",
       "c       india\n",
       "d       china\n",
       "dtype: object"
      ]
     },
     "execution_count": 14,
     "metadata": {},
     "output_type": "execute_result"
    }
   ],
   "source": [
    "c = Series(b.values,index=['a','b','c','d']) #we imported values of \"b\" series \n",
    "c"
   ]
  },
  {
   "cell_type": "code",
   "execution_count": 15,
   "metadata": {},
   "outputs": [
    {
     "data": {
      "text/plain": [
       "a    1\n",
       "b    2\n",
       "c    3\n",
       "d    4\n",
       "dtype: int64"
      ]
     },
     "execution_count": 15,
     "metadata": {},
     "output_type": "execute_result"
    }
   ],
   "source": [
    "d = Series([1,2,3,4],c.index) # we improted values of \"c\" series\n",
    "d"
   ]
  },
  {
   "cell_type": "code",
   "execution_count": 16,
   "metadata": {},
   "outputs": [
    {
     "data": {
      "text/plain": [
       "a    1\n",
       "b    2\n",
       "c    3\n",
       "d    4\n",
       "dtype: int64"
      ]
     },
     "execution_count": 16,
     "metadata": {},
     "output_type": "execute_result"
    }
   ],
   "source": [
    "a =Series (s.values,index = [\"a\",\"b\",\"c\",\"d\"])\n",
    "# put the number of elements equal to series numbers\n",
    "#apni marzi se indexing kardi\n",
    "a"
   ]
  },
  {
   "cell_type": "code",
   "execution_count": 45,
   "metadata": {},
   "outputs": [
    {
     "data": {
      "text/plain": [
       "DatetimeIndex(['2018-07-01', '2018-07-08', '2018-07-15', '2018-07-22',\n",
       "               '2018-07-29', '2018-08-05', '2018-08-12', '2018-08-19',\n",
       "               '2018-08-26', '2018-09-02', '2018-09-09', '2018-09-16',\n",
       "               '2018-09-23', '2018-09-30', '2018-10-07', '2018-10-14',\n",
       "               '2018-10-21', '2018-10-28', '2018-11-04', '2018-11-11',\n",
       "               '2018-11-18', '2018-11-25', '2018-12-02', '2018-12-09',\n",
       "               '2018-12-16', '2018-12-23', '2018-12-30', '2019-01-06',\n",
       "               '2019-01-13', '2019-01-20', '2019-01-27', '2019-02-03',\n",
       "               '2019-02-10', '2019-02-17', '2019-02-24', '2019-03-03',\n",
       "               '2019-03-10', '2019-03-17', '2019-03-24', '2019-03-31',\n",
       "               '2019-04-07', '2019-04-14', '2019-04-21', '2019-04-28',\n",
       "               '2019-05-05', '2019-05-12', '2019-05-19', '2019-05-26',\n",
       "               '2019-06-02', '2019-06-09', '2019-06-16', '2019-06-23',\n",
       "               '2019-06-30', '2019-07-07'],\n",
       "              dtype='datetime64[ns]', freq='W-SUN')"
      ]
     },
     "execution_count": 45,
     "metadata": {},
     "output_type": "execute_result"
    }
   ],
   "source": [
    "dates = pd.date_range('2018-07-01','2019-07-07',freq = 'W') # w for week,d for days,m for months\n",
    "#automatic index generating\n",
    "dates"
   ]
  },
  {
   "cell_type": "code",
   "execution_count": 18,
   "metadata": {},
   "outputs": [
    {
     "data": {
      "text/plain": [
       "2019-07-01     80\n",
       "2019-07-02     82\n",
       "2019-07-03     85\n",
       "2019-07-04     87\n",
       "2019-07-05     81\n",
       "2019-07-06     90\n",
       "2019-07-07    200\n",
       "Freq: D, dtype: int64"
      ]
     },
     "execution_count": 18,
     "metadata": {},
     "output_type": "execute_result"
    }
   ],
   "source": [
    "b = Series([80,82,85,87,81,90,200],index = dates)\n",
    "b"
   ]
  },
  {
   "cell_type": "markdown",
   "metadata": {},
   "source": [
    "data in series must be 1 dimensional"
   ]
  },
  {
   "cell_type": "code",
   "execution_count": 19,
   "metadata": {},
   "outputs": [
    {
     "data": {
      "text/plain": [
       "100.71428571428571"
      ]
     },
     "execution_count": 19,
     "metadata": {},
     "output_type": "execute_result"
    }
   ],
   "source": [
    "b.mean()"
   ]
  },
  {
   "cell_type": "code",
   "execution_count": 20,
   "metadata": {},
   "outputs": [
    {
     "data": {
      "text/plain": [
       "2019-07-01    70\n",
       "2019-07-02    75\n",
       "2019-07-03    73\n",
       "2019-07-04    77\n",
       "2019-07-05    95\n",
       "2019-07-06    83\n",
       "2019-07-07    72\n",
       "Freq: D, dtype: int64"
      ]
     },
     "execution_count": 20,
     "metadata": {},
     "output_type": "execute_result"
    }
   ],
   "source": [
    "b2=Series([70,75,73,77,95,83,72],index = dates)\n",
    "b2"
   ]
  },
  {
   "cell_type": "code",
   "execution_count": 48,
   "metadata": {},
   "outputs": [
    {
     "data": {
      "text/plain": [
       "2018-07-01    70\n",
       "2018-07-08    70\n",
       "2018-07-15    70\n",
       "2018-07-22    70\n",
       "2018-07-29    70\n",
       "2018-08-05    70\n",
       "2018-08-12    70\n",
       "2018-08-19    70\n",
       "2018-08-26    70\n",
       "2018-09-02    70\n",
       "2018-09-09    70\n",
       "2018-09-16    70\n",
       "2018-09-23    70\n",
       "2018-09-30    70\n",
       "2018-10-07    70\n",
       "2018-10-14    70\n",
       "2018-10-21    70\n",
       "2018-10-28    70\n",
       "2018-11-04    70\n",
       "2018-11-11    70\n",
       "2018-11-18    70\n",
       "2018-11-25    70\n",
       "2018-12-02    70\n",
       "2018-12-09    70\n",
       "2018-12-16    70\n",
       "2018-12-23    70\n",
       "2018-12-30    70\n",
       "2019-01-06    70\n",
       "2019-01-13    70\n",
       "2019-01-20    70\n",
       "2019-01-27    70\n",
       "2019-02-03    70\n",
       "2019-02-10    70\n",
       "2019-02-17    70\n",
       "2019-02-24    70\n",
       "2019-03-03    70\n",
       "2019-03-10    70\n",
       "2019-03-17    70\n",
       "2019-03-24    70\n",
       "2019-03-31    70\n",
       "2019-04-07    70\n",
       "2019-04-14    70\n",
       "2019-04-21    70\n",
       "2019-04-28    70\n",
       "2019-05-05    70\n",
       "2019-05-12    70\n",
       "2019-05-19    70\n",
       "2019-05-26    70\n",
       "2019-06-02    70\n",
       "2019-06-09    70\n",
       "2019-06-16    70\n",
       "2019-06-23    70\n",
       "2019-06-30    70\n",
       "2019-07-07    70\n",
       "Freq: W-SUN, dtype: int64"
      ]
     },
     "execution_count": 48,
     "metadata": {},
     "output_type": "execute_result"
    }
   ],
   "source": [
    "b6=Series(70,index = dates)\n",
    "b6"
   ]
  },
  {
   "cell_type": "code",
   "execution_count": 21,
   "metadata": {},
   "outputs": [
    {
     "data": {
      "text/plain": [
       "77"
      ]
     },
     "execution_count": 21,
     "metadata": {},
     "output_type": "execute_result"
    }
   ],
   "source": [
    "b2['2019-07-04']"
   ]
  },
  {
   "cell_type": "code",
   "execution_count": 82,
   "metadata": {},
   "outputs": [
    {
     "data": {
      "text/html": [
       "<div>\n",
       "<style scoped>\n",
       "    .dataframe tbody tr th:only-of-type {\n",
       "        vertical-align: middle;\n",
       "    }\n",
       "\n",
       "    .dataframe tbody tr th {\n",
       "        vertical-align: top;\n",
       "    }\n",
       "\n",
       "    .dataframe thead th {\n",
       "        text-align: right;\n",
       "    }\n",
       "</style>\n",
       "<table border=\"1\" class=\"dataframe\">\n",
       "  <thead>\n",
       "    <tr style=\"text-align: right;\">\n",
       "      <th></th>\n",
       "      <th>Midterm</th>\n",
       "      <th>Finals</th>\n",
       "    </tr>\n",
       "  </thead>\n",
       "  <tbody>\n",
       "    <tr>\n",
       "      <th>2019-07-01</th>\n",
       "      <td>80</td>\n",
       "      <td>70</td>\n",
       "    </tr>\n",
       "    <tr>\n",
       "      <th>2019-07-02</th>\n",
       "      <td>82</td>\n",
       "      <td>75</td>\n",
       "    </tr>\n",
       "    <tr>\n",
       "      <th>2019-07-03</th>\n",
       "      <td>85</td>\n",
       "      <td>73</td>\n",
       "    </tr>\n",
       "    <tr>\n",
       "      <th>2019-07-04</th>\n",
       "      <td>87</td>\n",
       "      <td>77</td>\n",
       "    </tr>\n",
       "    <tr>\n",
       "      <th>2019-07-05</th>\n",
       "      <td>81</td>\n",
       "      <td>95</td>\n",
       "    </tr>\n",
       "    <tr>\n",
       "      <th>2019-07-06</th>\n",
       "      <td>90</td>\n",
       "      <td>83</td>\n",
       "    </tr>\n",
       "    <tr>\n",
       "      <th>2019-07-07</th>\n",
       "      <td>200</td>\n",
       "      <td>72</td>\n",
       "    </tr>\n",
       "  </tbody>\n",
       "</table>\n",
       "</div>"
      ],
      "text/plain": [
       "            Midterm  Finals\n",
       "2019-07-01       80      70\n",
       "2019-07-02       82      75\n",
       "2019-07-03       85      73\n",
       "2019-07-04       87      77\n",
       "2019-07-05       81      95\n",
       "2019-07-06       90      83\n",
       "2019-07-07      200      72"
      ]
     },
     "execution_count": 82,
     "metadata": {},
     "output_type": "execute_result"
    }
   ],
   "source": [
    "bb2 = DataFrame({'Midterm':b,'Finals':b2})\n",
    "bb2"
   ]
  },
  {
   "cell_type": "code",
   "execution_count": 83,
   "metadata": {},
   "outputs": [
    {
     "data": {
      "text/html": [
       "<div>\n",
       "<style scoped>\n",
       "    .dataframe tbody tr th:only-of-type {\n",
       "        vertical-align: middle;\n",
       "    }\n",
       "\n",
       "    .dataframe tbody tr th {\n",
       "        vertical-align: top;\n",
       "    }\n",
       "\n",
       "    .dataframe thead th {\n",
       "        text-align: right;\n",
       "    }\n",
       "</style>\n",
       "<table border=\"1\" class=\"dataframe\">\n",
       "  <thead>\n",
       "    <tr style=\"text-align: right;\">\n",
       "      <th></th>\n",
       "      <th>Midterm</th>\n",
       "      <th>Finals</th>\n",
       "      <th>Diffrence</th>\n",
       "    </tr>\n",
       "  </thead>\n",
       "  <tbody>\n",
       "    <tr>\n",
       "      <th>2019-07-01</th>\n",
       "      <td>80</td>\n",
       "      <td>70</td>\n",
       "      <td>21</td>\n",
       "    </tr>\n",
       "    <tr>\n",
       "      <th>2019-07-02</th>\n",
       "      <td>82</td>\n",
       "      <td>75</td>\n",
       "      <td>23</td>\n",
       "    </tr>\n",
       "    <tr>\n",
       "      <th>2019-07-03</th>\n",
       "      <td>85</td>\n",
       "      <td>73</td>\n",
       "      <td>53</td>\n",
       "    </tr>\n",
       "    <tr>\n",
       "      <th>2019-07-04</th>\n",
       "      <td>87</td>\n",
       "      <td>77</td>\n",
       "      <td>64</td>\n",
       "    </tr>\n",
       "    <tr>\n",
       "      <th>2019-07-05</th>\n",
       "      <td>81</td>\n",
       "      <td>95</td>\n",
       "      <td>23</td>\n",
       "    </tr>\n",
       "    <tr>\n",
       "      <th>2019-07-06</th>\n",
       "      <td>90</td>\n",
       "      <td>83</td>\n",
       "      <td>21</td>\n",
       "    </tr>\n",
       "    <tr>\n",
       "      <th>2019-07-07</th>\n",
       "      <td>200</td>\n",
       "      <td>72</td>\n",
       "      <td>37</td>\n",
       "    </tr>\n",
       "  </tbody>\n",
       "</table>\n",
       "</div>"
      ],
      "text/plain": [
       "            Midterm  Finals  Diffrence\n",
       "2019-07-01       80      70         21\n",
       "2019-07-02       82      75         23\n",
       "2019-07-03       85      73         53\n",
       "2019-07-04       87      77         64\n",
       "2019-07-05       81      95         23\n",
       "2019-07-06       90      83         21\n",
       "2019-07-07      200      72         37"
      ]
     },
     "execution_count": 83,
     "metadata": {},
     "output_type": "execute_result"
    }
   ],
   "source": [
    "bb2['Diffrence']=[21,23,53,64,23,21,37] #adding a column to data\n",
    "bb2"
   ]
  },
  {
   "cell_type": "code",
   "execution_count": 23,
   "metadata": {},
   "outputs": [],
   "source": [
    "#data manupulations   "
   ]
  },
  {
   "cell_type": "code",
   "execution_count": 46,
   "metadata": {},
   "outputs": [
    {
     "data": {
      "text/plain": [
       "2019-07-01     80\n",
       "2019-07-02     82\n",
       "2019-07-03     85\n",
       "2019-07-04     87\n",
       "2019-07-05     81\n",
       "2019-07-06     90\n",
       "2019-07-07    200\n",
       "Freq: D, Name: Midterm, dtype: int64"
      ]
     },
     "execution_count": 46,
     "metadata": {},
     "output_type": "execute_result"
    }
   ],
   "source": [
    "bb2['Midterm']#👍"
   ]
  },
  {
   "cell_type": "code",
   "execution_count": 25,
   "metadata": {},
   "outputs": [],
   "source": [
    "diff = bb2.Midterm - bb2.Finals"
   ]
  },
  {
   "cell_type": "code",
   "execution_count": 26,
   "metadata": {},
   "outputs": [
    {
     "data": {
      "text/plain": [
       "2019-07-01     10\n",
       "2019-07-02      7\n",
       "2019-07-03     12\n",
       "2019-07-04     10\n",
       "2019-07-05    -14\n",
       "2019-07-06      7\n",
       "2019-07-07    128\n",
       "Freq: D, dtype: int64"
      ]
     },
     "execution_count": 26,
     "metadata": {},
     "output_type": "execute_result"
    }
   ],
   "source": [
    "diff"
   ]
  },
  {
   "cell_type": "code",
   "execution_count": 27,
   "metadata": {},
   "outputs": [],
   "source": [
    "mult = bb2.Midterm * bb2.Finals"
   ]
  },
  {
   "cell_type": "code",
   "execution_count": 28,
   "metadata": {},
   "outputs": [
    {
     "data": {
      "text/plain": [
       "2019-07-01     5600\n",
       "2019-07-02     6150\n",
       "2019-07-03     6205\n",
       "2019-07-04     6699\n",
       "2019-07-05     7695\n",
       "2019-07-06     7470\n",
       "2019-07-07    14400\n",
       "Freq: D, dtype: int64"
      ]
     },
     "execution_count": 28,
     "metadata": {},
     "output_type": "execute_result"
    }
   ],
   "source": [
    "mult"
   ]
  },
  {
   "cell_type": "code",
   "execution_count": 29,
   "metadata": {},
   "outputs": [
    {
     "data": {
      "text/html": [
       "<div>\n",
       "<style scoped>\n",
       "    .dataframe tbody tr th:only-of-type {\n",
       "        vertical-align: middle;\n",
       "    }\n",
       "\n",
       "    .dataframe tbody tr th {\n",
       "        vertical-align: top;\n",
       "    }\n",
       "\n",
       "    .dataframe thead th {\n",
       "        text-align: right;\n",
       "    }\n",
       "</style>\n",
       "<table border=\"1\" class=\"dataframe\">\n",
       "  <thead>\n",
       "    <tr style=\"text-align: right;\">\n",
       "      <th></th>\n",
       "      <th>Midterm</th>\n",
       "      <th>Finals</th>\n",
       "      <th>diffrence</th>\n",
       "      <th>multiply</th>\n",
       "    </tr>\n",
       "  </thead>\n",
       "  <tbody>\n",
       "    <tr>\n",
       "      <th>2019-07-01</th>\n",
       "      <td>80</td>\n",
       "      <td>70</td>\n",
       "      <td>10</td>\n",
       "      <td>5600</td>\n",
       "    </tr>\n",
       "    <tr>\n",
       "      <th>2019-07-02</th>\n",
       "      <td>82</td>\n",
       "      <td>75</td>\n",
       "      <td>7</td>\n",
       "      <td>6150</td>\n",
       "    </tr>\n",
       "    <tr>\n",
       "      <th>2019-07-03</th>\n",
       "      <td>85</td>\n",
       "      <td>73</td>\n",
       "      <td>12</td>\n",
       "      <td>6205</td>\n",
       "    </tr>\n",
       "    <tr>\n",
       "      <th>2019-07-04</th>\n",
       "      <td>87</td>\n",
       "      <td>77</td>\n",
       "      <td>10</td>\n",
       "      <td>6699</td>\n",
       "    </tr>\n",
       "    <tr>\n",
       "      <th>2019-07-05</th>\n",
       "      <td>81</td>\n",
       "      <td>95</td>\n",
       "      <td>-14</td>\n",
       "      <td>7695</td>\n",
       "    </tr>\n",
       "    <tr>\n",
       "      <th>2019-07-06</th>\n",
       "      <td>90</td>\n",
       "      <td>83</td>\n",
       "      <td>7</td>\n",
       "      <td>7470</td>\n",
       "    </tr>\n",
       "    <tr>\n",
       "      <th>2019-07-07</th>\n",
       "      <td>200</td>\n",
       "      <td>72</td>\n",
       "      <td>128</td>\n",
       "      <td>14400</td>\n",
       "    </tr>\n",
       "  </tbody>\n",
       "</table>\n",
       "</div>"
      ],
      "text/plain": [
       "            Midterm  Finals  diffrence  multiply\n",
       "2019-07-01       80      70         10      5600\n",
       "2019-07-02       82      75          7      6150\n",
       "2019-07-03       85      73         12      6205\n",
       "2019-07-04       87      77         10      6699\n",
       "2019-07-05       81      95        -14      7695\n",
       "2019-07-06       90      83          7      7470\n",
       "2019-07-07      200      72        128     14400"
      ]
     },
     "execution_count": 29,
     "metadata": {},
     "output_type": "execute_result"
    }
   ],
   "source": [
    "new =  DataFrame({'Midterm':b,'Finals':b2,'diffrence':diff,'multiply':mult})\n",
    "new"
   ]
  },
  {
   "cell_type": "code",
   "execution_count": 81,
   "metadata": {},
   "outputs": [
    {
     "data": {
      "text/plain": [
       "2019-07-01     80\n",
       "2019-07-02     82\n",
       "2019-07-03     85\n",
       "2019-07-04     87\n",
       "2019-07-05     81\n",
       "2019-07-06     90\n",
       "2019-07-07    200\n",
       "Freq: D, Name: Midterm, dtype: int64"
      ]
     },
     "execution_count": 81,
     "metadata": {},
     "output_type": "execute_result"
    }
   ],
   "source": [
    "new['Midterm']"
   ]
  },
  {
   "cell_type": "code",
   "execution_count": 84,
   "metadata": {},
   "outputs": [
    {
     "data": {
      "text/plain": [
       "Index(['Midterm', 'Finals', 'diffrence', 'multiply'], dtype='object')"
      ]
     },
     "execution_count": 84,
     "metadata": {},
     "output_type": "execute_result"
    }
   ],
   "source": [
    "new.columns"
   ]
  },
  {
   "cell_type": "code",
   "execution_count": 30,
   "metadata": {},
   "outputs": [
    {
     "data": {
      "text/plain": [
       "2019-07-02     7\n",
       "2019-07-03    12\n",
       "2019-07-04    10\n",
       "Freq: D, Name: diffrence, dtype: int64"
      ]
     },
     "execution_count": 30,
     "metadata": {},
     "output_type": "execute_result"
    }
   ],
   "source": [
    "new.diffrence['2019-07-02':'2019-07-04']"
   ]
  },
  {
   "cell_type": "code",
   "execution_count": 70,
   "metadata": {},
   "outputs": [
    {
     "data": {
      "text/plain": [
       "Midterm        81\n",
       "Finals         95\n",
       "diffrence     -14\n",
       "multiply     7695\n",
       "Name: 2019-07-05 00:00:00, dtype: int64"
      ]
     },
     "execution_count": 70,
     "metadata": {},
     "output_type": "execute_result"
    }
   ],
   "source": [
    "new.iloc[4]  # index ki bhi indexing hoti nhy iloc me wohi default index provide karty hain"
   ]
  },
  {
   "cell_type": "code",
   "execution_count": 71,
   "metadata": {},
   "outputs": [
    {
     "data": {
      "text/plain": [
       "Midterm        81\n",
       "Finals         95\n",
       "diffrence     -14\n",
       "multiply     7695\n",
       "Name: 2019-07-05 00:00:00, dtype: int64"
      ]
     },
     "execution_count": 71,
     "metadata": {},
     "output_type": "execute_result"
    }
   ],
   "source": [
    "new.loc['2019-07-05'] # index provide karna hota hy"
   ]
  },
  {
   "cell_type": "code",
   "execution_count": 72,
   "metadata": {},
   "outputs": [
    {
     "data": {
      "text/plain": [
       "2019-07-03    85\n",
       "2019-07-05    81\n",
       "2019-07-01    80\n",
       "Name: Midterm, dtype: int64"
      ]
     },
     "execution_count": 72,
     "metadata": {},
     "output_type": "execute_result"
    }
   ],
   "source": [
    "new.iloc[[2,4,0]].Midterm"
   ]
  },
  {
   "cell_type": "code",
   "execution_count": 73,
   "metadata": {},
   "outputs": [
    {
     "data": {
      "text/plain": [
       "2019-07-03    12\n",
       "2019-07-05   -14\n",
       "2019-07-01    10\n",
       "Name: diffrence, dtype: int64"
      ]
     },
     "execution_count": 73,
     "metadata": {},
     "output_type": "execute_result"
    }
   ],
   "source": [
    "new.iloc[[2,4,0]].diffrence"
   ]
  },
  {
   "cell_type": "code",
   "execution_count": 74,
   "metadata": {},
   "outputs": [
    {
     "data": {
      "text/plain": [
       "2019-07-01    False\n",
       "2019-07-02    False\n",
       "2019-07-03    False\n",
       "2019-07-04    False\n",
       "2019-07-05    False\n",
       "2019-07-06     True\n",
       "2019-07-07     True\n",
       "Freq: D, Name: Midterm, dtype: bool"
      ]
     },
     "execution_count": 74,
     "metadata": {},
     "output_type": "execute_result"
    }
   ],
   "source": [
    "new.Midterm > 87"
   ]
  },
  {
   "cell_type": "code",
   "execution_count": 85,
   "metadata": {},
   "outputs": [
    {
     "data": {
      "text/html": [
       "<div>\n",
       "<style scoped>\n",
       "    .dataframe tbody tr th:only-of-type {\n",
       "        vertical-align: middle;\n",
       "    }\n",
       "\n",
       "    .dataframe tbody tr th {\n",
       "        vertical-align: top;\n",
       "    }\n",
       "\n",
       "    .dataframe thead th {\n",
       "        text-align: right;\n",
       "    }\n",
       "</style>\n",
       "<table border=\"1\" class=\"dataframe\">\n",
       "  <thead>\n",
       "    <tr style=\"text-align: right;\">\n",
       "      <th></th>\n",
       "      <th>Midterm</th>\n",
       "      <th>Finals</th>\n",
       "      <th>diffrence</th>\n",
       "      <th>multiply</th>\n",
       "    </tr>\n",
       "  </thead>\n",
       "  <tbody>\n",
       "    <tr>\n",
       "      <th>2019-07-06</th>\n",
       "      <td>90</td>\n",
       "      <td>83</td>\n",
       "      <td>7</td>\n",
       "      <td>7470</td>\n",
       "    </tr>\n",
       "    <tr>\n",
       "      <th>2019-07-07</th>\n",
       "      <td>200</td>\n",
       "      <td>72</td>\n",
       "      <td>128</td>\n",
       "      <td>14400</td>\n",
       "    </tr>\n",
       "  </tbody>\n",
       "</table>\n",
       "</div>"
      ],
      "text/plain": [
       "            Midterm  Finals  diffrence  multiply\n",
       "2019-07-06       90      83          7      7470\n",
       "2019-07-07      200      72        128     14400"
      ]
     },
     "execution_count": 85,
     "metadata": {},
     "output_type": "execute_result"
    }
   ],
   "source": [
    "new[new.Midterm > 87]"
   ]
  },
  {
   "cell_type": "code",
   "execution_count": 75,
   "metadata": {},
   "outputs": [],
   "source": [
    "import numpy as np"
   ]
  },
  {
   "cell_type": "code",
   "execution_count": 76,
   "metadata": {},
   "outputs": [
    {
     "data": {
      "text/plain": [
       "0   -0.204708\n",
       "1    0.478943\n",
       "2   -0.519439\n",
       "3   -0.555730\n",
       "4    1.965781\n",
       "dtype: float64"
      ]
     },
     "execution_count": 76,
     "metadata": {},
     "output_type": "execute_result"
    }
   ],
   "source": [
    "np.random.seed(12345)#seed help us to maintain single randomly produced numbers\n",
    "pd.Series(np.random.randn(5))"
   ]
  },
  {
   "cell_type": "code",
   "execution_count": 77,
   "metadata": {},
   "outputs": [
    {
     "data": {
      "text/plain": [
       "0     0.000\n",
       "1     0.375\n",
       "2     0.750\n",
       "3     1.125\n",
       "4     1.500\n",
       "5     1.875\n",
       "6     2.250\n",
       "7     2.625\n",
       "8     3.000\n",
       "9     3.375\n",
       "10    3.750\n",
       "11    4.125\n",
       "12    4.500\n",
       "13    4.875\n",
       "14    5.250\n",
       "15    5.625\n",
       "16    6.000\n",
       "17    6.375\n",
       "18    6.750\n",
       "19    7.125\n",
       "20    7.500\n",
       "21    7.875\n",
       "22    8.250\n",
       "23    8.625\n",
       "24    9.000\n",
       "dtype: float64"
      ]
     },
     "execution_count": 77,
     "metadata": {},
     "output_type": "execute_result"
    }
   ],
   "source": [
    "pd.Series(np.linspace(0,9,25))#first two are limits and third number in numbers or lines"
   ]
  },
  {
   "cell_type": "code",
   "execution_count": 78,
   "metadata": {},
   "outputs": [
    {
     "data": {
      "text/plain": [
       "ax    NaN\n",
       "bx    NaN\n",
       "c     3.0\n",
       "dx    NaN\n",
       "dtype: float64"
      ]
     },
     "execution_count": 78,
     "metadata": {},
     "output_type": "execute_result"
    }
   ],
   "source": [
    "s12 = pd.Series({'a':1,'b':2,'c':3,'d':4},index=['ax','bx','c','dx'])\n",
    "s12"
   ]
  },
  {
   "cell_type": "code",
   "execution_count": null,
   "metadata": {},
   "outputs": [],
   "source": [
    "obj = pd.Series([4,7,6,2,5,42,23 ])"
   ]
  },
  {
   "cell_type": "code",
   "execution_count": null,
   "metadata": {},
   "outputs": [],
   "source": []
  },
  {
   "cell_type": "code",
   "execution_count": null,
   "metadata": {},
   "outputs": [],
   "source": []
  },
  {
   "cell_type": "code",
   "execution_count": null,
   "metadata": {},
   "outputs": [],
   "source": []
  }
 ],
 "metadata": {
  "kernelspec": {
   "display_name": "Python 3",
   "language": "python",
   "name": "python3"
  },
  "language_info": {
   "codemirror_mode": {
    "name": "ipython",
    "version": 3
   },
   "file_extension": ".py",
   "mimetype": "text/x-python",
   "name": "python",
   "nbconvert_exporter": "python",
   "pygments_lexer": "ipython3",
   "version": "3.7.1"
  },
  "widgets": {
   "application/vnd.jupyter.widget-state+json": {
    "state": {},
    "version_major": 2,
    "version_minor": 0
   }
  }
 },
 "nbformat": 4,
 "nbformat_minor": 2
}
