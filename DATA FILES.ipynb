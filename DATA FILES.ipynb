{
 "cells": [
  {
   "cell_type": "raw",
   "metadata": {},
   "source": [
    "file handlings or data files"
   ]
  },
  {
   "cell_type": "code",
   "execution_count": 13,
   "metadata": {},
   "outputs": [
    {
     "name": "stdout",
     "output_type": "stream",
     "text": [
      "ao kabhi haweli pr\n",
      "nhi araha nikal\n"
     ]
    }
   ],
   "source": [
    "with open(\"myfile.txt\",\"w\") as f:    #syntax \n",
    "    f.write(\"ao kabhi haweli pr\")\n",
    "with open(\"myfile.txt\",\"a\") as f:\n",
    "    f.write(\"\\nnhi araha nikal\")\n",
    "with open(\"myfile.txt\",\"r\") as f:\n",
    "    text = f.read()\n",
    "print (text)"
   ]
  },
  {
   "cell_type": "code",
   "execution_count": 20,
   "metadata": {},
   "outputs": [],
   "source": [
    "with open (\"artificial inteligencew.txt\",\"w\") as f:\n",
    "    f.write(\"this is our class\")"
   ]
  },
  {
   "cell_type": "code",
   "execution_count": 58,
   "metadata": {},
   "outputs": [
    {
     "name": "stdout",
     "output_type": "stream",
     "text": [
      "this is our class\n",
      "\n"
     ]
    },
    {
     "ename": "TypeError",
     "evalue": "'_io.TextIOWrapper' object is not callable",
     "output_type": "error",
     "traceback": [
      "\u001b[1;31m---------------------------------------------------------------------------\u001b[0m",
      "\u001b[1;31mTypeError\u001b[0m                                 Traceback (most recent call last)",
      "\u001b[1;32m<ipython-input-58-f4f639eae9a2>\u001b[0m in \u001b[0;36m<module>\u001b[1;34m\u001b[0m\n\u001b[0;32m      3\u001b[0m     \u001b[0mprint\u001b[0m\u001b[1;33m(\u001b[0m\u001b[0mread\u001b[0m\u001b[1;33m.\u001b[0m\u001b[0mread\u001b[0m\u001b[1;33m(\u001b[0m\u001b[1;33m)\u001b[0m\u001b[1;33m)\u001b[0m\u001b[1;33m\u001b[0m\u001b[1;33m\u001b[0m\u001b[0m\n\u001b[0;32m      4\u001b[0m     \u001b[1;31m#cursor was moving forward it only read once when its opened\u001b[0m\u001b[1;33m\u001b[0m\u001b[1;33m\u001b[0m\u001b[1;33m\u001b[0m\u001b[0m\n\u001b[1;32m----> 5\u001b[1;33m     \u001b[0mprint\u001b[0m\u001b[1;33m(\u001b[0m\u001b[0mread\u001b[0m\u001b[1;33m,\u001b[0m\u001b[0mread\u001b[0m\u001b[1;33m(\u001b[0m\u001b[1;33m)\u001b[0m\u001b[1;33m)\u001b[0m\u001b[1;33m\u001b[0m\u001b[1;33m\u001b[0m\u001b[0m\n\u001b[0m",
      "\u001b[1;31mTypeError\u001b[0m: '_io.TextIOWrapper' object is not callable"
     ]
    }
   ],
   "source": [
    "with open (\"artificial inteligencew.txt\",\"r\") as read:\n",
    "    print(read.read()) \n",
    "    print(read.read())\n",
    "    #cursor was moving forward it only read once when its opened\n",
    "    print(read,read())"
   ]
  },
  {
   "cell_type": "code",
   "execution_count": 38,
   "metadata": {},
   "outputs": [],
   "source": [
    "with open(\"aman.txt\",\"w\") as f:\n",
    "    f.write(\"02130913091284\\n09283920380384e\\n09238902384094\\08970938\")"
   ]
  },
  {
   "cell_type": "code",
   "execution_count": 39,
   "metadata": {},
   "outputs": [
    {
     "name": "stdout",
     "output_type": "stream",
     "text": [
      "0213091309128409283920380384e09238902384094\u00008970938...\n",
      "51\n"
     ]
    }
   ],
   "source": [
    "with open(\"aman.txt\") as file_object:\n",
    "    lines = file_object.readlines()\n",
    "    pi_string = '' \n",
    "    for line in lines:    \n",
    "        pi_string += line.strip()    \n",
    "    print(pi_string[:52] + \"...\") \n",
    "    print(len(pi_string))"
   ]
  },
  {
   "cell_type": "code",
   "execution_count": null,
   "metadata": {},
   "outputs": [],
   "source": [
    "#exception"
   ]
  },
  {
   "cell_type": "code",
   "execution_count": 50,
   "metadata": {},
   "outputs": [
    {
     "name": "stdout",
     "output_type": "stream",
     "text": [
      "enter num1 2\n",
      "enter num11 0\n",
      "bhai kuch tameez se kaam karo\n"
     ]
    }
   ],
   "source": [
    "num1 = int(input(\"enter num1 \"))\n",
    "num11 = int(input(\"enter num11 \"))\n",
    "try:\n",
    "    print(num1/num11)\n",
    "except ZeroDivisionError:\n",
    "    print(\"bhai kuch tameez se kaam karo\")"
   ]
  },
  {
   "cell_type": "code",
   "execution_count": 1,
   "metadata": {},
   "outputs": [
    {
     "name": "stdout",
     "output_type": "stream",
     "text": [
      "Give me two numbers, and I'll divide them.\n",
      "Enter 'q' to quit.\n",
      "\n",
      "First number: 1\n",
      "Second number: 0\n",
      "infinity\n",
      "\n",
      "First number: q\n"
     ]
    }
   ],
   "source": [
    "print(\"Give me two numbers, and I'll divide them.\") \n",
    "print(\"Enter 'q' to quit.\")\n",
    "while True: \n",
    "    first_number = input(\"\\nFirst number: \")\n",
    "    if first_number == 'q':\n",
    "        break     \n",
    "        \n",
    "    second_number = input(\"Second number: \")    \n",
    "    if second_number == 'q':        \n",
    "        break\n",
    "    try:                                          ###exceptional case\n",
    "        answer = int(first_number) / int(second_number)\n",
    "    except ZeroDivisionError:\n",
    "        print(\"infinity\")\n",
    "    else:               # if succesful goes to else block\n",
    "        print(answer)"
   ]
  },
  {
   "cell_type": "code",
   "execution_count": 2,
   "metadata": {},
   "outputs": [
    {
     "name": "stdout",
     "output_type": "stream",
     "text": [
      "ary bhai itni lamba nahi hy\n"
     ]
    }
   ],
   "source": [
    "d = []\n",
    "\n",
    "try:\n",
    "    d[5]\n",
    "except IndexError :\n",
    "    print(\"ary bhai itni lamba nahi hy\")"
   ]
  },
  {
   "cell_type": "code",
   "execution_count": null,
   "metadata": {},
   "outputs": [
    {
     "name": "stdout",
     "output_type": "stream",
     "text": [
      "Give me two numbers, and I'll divide them.\n",
      "Enter 'q' to quit.\n",
      "\n",
      "First number: 2\n",
      "Second number: 0\n",
      "infinity\n",
      "chalo dubara karna hy to ajao\n"
     ]
    }
   ],
   "source": [
    "print(\"Give me two numbers, and I'll divide them.\") \n",
    "print(\"Enter 'q' to quit.\")\n",
    "while True: \n",
    "    first_number = input(\"\\nFirst number: \")\n",
    "    if first_number == 'q':\n",
    "        break     \n",
    "        \n",
    "    second_number = input(\"Second number: \")    \n",
    "    if second_number == 'q':        \n",
    "        break\n",
    "    try:                                          ###exceptional case\n",
    "        answer = int(first_number) / int(second_number)\n",
    "    except:                                             ##-----------> this eats every error\n",
    "        print(\"infinity\")\n",
    "    else:       # if succesful goes to else block\n",
    "        print(answer)\n",
    "    finally:\n",
    "        print(\"chalo dubara karna hy to ajao\")"
   ]
  },
  {
   "cell_type": "code",
   "execution_count": null,
   "metadata": {},
   "outputs": [],
   "source": []
  }
 ],
 "metadata": {
  "kernelspec": {
   "display_name": "Python 3",
   "language": "python",
   "name": "python3"
  },
  "language_info": {
   "codemirror_mode": {
    "name": "ipython",
    "version": 3
   },
   "file_extension": ".py",
   "mimetype": "text/x-python",
   "name": "python",
   "nbconvert_exporter": "python",
   "pygments_lexer": "ipython3",
   "version": "3.7.1"
  }
 },
 "nbformat": 4,
 "nbformat_minor": 2
}
