{
 "cells": [
  {
   "cell_type": "code",
   "execution_count": 5,
   "metadata": {},
   "outputs": [
    {
     "name": "stdout",
     "output_type": "stream",
     "text": [
      "['fahad', 'nouman', 'shakeel', 1, 2, 3]\n",
      "[1, 2, 3]\n"
     ]
    }
   ],
   "source": [
    "listone=[\"fahad\", \"nouman\", \"shakeel\"]\n",
    "listtwo=[1, 2, 3]\n",
    "listone.extend(listtwo)\n",
    "print(listone)\n",
    "print(listtwo)"
   ]
  },
  {
   "cell_type": "code",
   "execution_count": 7,
   "metadata": {},
   "outputs": [
    {
     "name": "stdout",
     "output_type": "stream",
     "text": [
      "[25, 36, 45, 63, 65, 87, 89]\n"
     ]
    }
   ],
   "source": [
    "num=[25, 36, 65, 87, 63, 45, 89]\n",
    "num.sort()\n",
    "print(num)"
   ]
  },
  {
   "cell_type": "code",
   "execution_count": 6,
   "metadata": {},
   "outputs": [
    {
     "name": "stdout",
     "output_type": "stream",
     "text": [
      "None\n"
     ]
    }
   ],
   "source": [
    "#You van not assign sorted value to an other variable if you do then you will get None result\n",
    "num=[25, 36, 65, 87, 63, 45, 89]\n",
    "value=num.sort()\n",
    "value\n",
    "print(value)"
   ]
  },
  {
   "cell_type": "code",
   "execution_count": 4,
   "metadata": {},
   "outputs": [
    {
     "name": "stdout",
     "output_type": "stream",
     "text": [
      "['Nouman', 'Shakeel']\n",
      "['Nouman', 'Shakeel', 'Shahzad']\n"
     ]
    }
   ],
   "source": [
    "friends=[\"Nouman\", \"Shakeel\"]\n",
    "print(friends)\n",
    "friends.append(\"Shahzad\")\n",
    "print(friends)"
   ]
  },
  {
   "cell_type": "code",
   "execution_count": 10,
   "metadata": {},
   "outputs": [
    {
     "name": "stdout",
     "output_type": "stream",
     "text": [
      "['Nouman', 'Shakeel']\n",
      "['Nouman', 'Shahzad', 'Shakeel']\n"
     ]
    }
   ],
   "source": [
    "friends=[\"Nouman\", \"Shakeel\"]\n",
    "print(friends)\n",
    "friends.insert(1, \"Shahzad\")\n",
    "print(friends)"
   ]
  },
  {
   "cell_type": "code",
   "execution_count": 12,
   "metadata": {},
   "outputs": [
    {
     "name": "stdout",
     "output_type": "stream",
     "text": [
      "['Nouman', 'Shakeel', 'Shahzad']\n",
      "['Nouman', 'Shakeel']\n"
     ]
    }
   ],
   "source": [
    "friends=[\"Nouman\", \"Shakeel\", \"Shahzad\"]\n",
    "print(friends)\n",
    "friends.remove(\"Shahzad\")\n",
    "print(friends)"
   ]
  },
  {
   "cell_type": "code",
   "execution_count": 14,
   "metadata": {},
   "outputs": [
    {
     "name": "stdout",
     "output_type": "stream",
     "text": [
      "['Nouman', 'Shakeel', 'Shahzad']\n",
      "['Nouman', 'Shakeel']\n"
     ]
    }
   ],
   "source": [
    "friends=[\"Nouman\", \"Shakeel\", \"Shahzad\"]\n",
    "print(friends)\n",
    "friends.pop()\n",
    "print(friends)"
   ]
  },
  {
   "cell_type": "code",
   "execution_count": 16,
   "metadata": {},
   "outputs": [
    {
     "name": "stdout",
     "output_type": "stream",
     "text": [
      "['Nouman', 'Shakeel', 'Shahzad']\n",
      "[]\n"
     ]
    }
   ],
   "source": [
    "friends=[\"Nouman\", \"Shakeel\", \"Shahzad\"]\n",
    "print(friends)\n",
    "friends.clear()\n",
    "print(friends)"
   ]
  },
  {
   "cell_type": "code",
   "execution_count": 20,
   "metadata": {},
   "outputs": [
    {
     "name": "stdout",
     "output_type": "stream",
     "text": [
      "3\n"
     ]
    }
   ],
   "source": [
    "friends=[\"Nouman\", \"Shakeel\", \"Nouman\", \"Fahad\", \"Nouman\"]\n",
    "print(friends.count(\"Nouman\"))"
   ]
  },
  {
   "cell_type": "code",
   "execution_count": 22,
   "metadata": {},
   "outputs": [
    {
     "name": "stdout",
     "output_type": "stream",
     "text": [
      "[9, 8, 7, 6, 5, 4, 3, 2, 1]\n"
     ]
    }
   ],
   "source": [
    "number=[1,2,3,4,5,6,7,8,9]\n",
    "number.reverse()\n",
    "print(number)"
   ]
  },
  {
   "cell_type": "code",
   "execution_count": 28,
   "metadata": {},
   "outputs": [
    {
     "name": "stdout",
     "output_type": "stream",
     "text": [
      "['Nouman', 'Shakeel', 'Fahad', 'Shahzad', 'Asif']\n",
      "['Nouman', 'Shakeel', 'Fahad', 'Shahzad']\n"
     ]
    }
   ],
   "source": [
    "list_one=[\"Nouman\", \"Shakeel\",\"Fahad\", \"Shahzad\"]\n",
    "list_two=list_one.copy()\n",
    "list_one.append(\"Asif\")\n",
    "print(list_one)\n",
    "print(list_two)"
   ]
  },
  {
   "cell_type": "code",
   "execution_count": null,
   "metadata": {},
   "outputs": [],
   "source": []
  }
 ],
 "metadata": {
  "kernelspec": {
   "display_name": "Python 3",
   "language": "python",
   "name": "python3"
  },
  "language_info": {
   "codemirror_mode": {
    "name": "ipython",
    "version": 3
   },
   "file_extension": ".py",
   "mimetype": "text/x-python",
   "name": "python",
   "nbconvert_exporter": "python",
   "pygments_lexer": "ipython3",
   "version": "3.7.1"
  }
 },
 "nbformat": 4,
 "nbformat_minor": 2
}
