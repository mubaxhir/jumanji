{
 "cells": [
  {
   "cell_type": "markdown",
   "metadata": {},
   "source": [
    "# classes"
   ]
  },
  {
   "cell_type": "code",
   "execution_count": 9,
   "metadata": {},
   "outputs": [],
   "source": [
    "class Patient():\n",
    "    def __init__(self,name,last_name,age,bimari):#initializer \n",
    "        ####Attributes####\n",
    "        self.name = name\n",
    "        self.last_name = last_name\n",
    "        self.age = age\n",
    "        self.bimari = bimari\n",
    "    ###functionalities###\n",
    "    def walk(self):\n",
    "        print(f\"{self.name}is walking\")\n",
    "    def eat_meal(self):\n",
    "        print(f\"{self.name}is eating\")\n",
    "    def takes_medicine(self):\n",
    "        print(f\"{self.name}is taking medicine\")"
   ]
  },
  {
   "cell_type": "code",
   "execution_count": 11,
   "metadata": {},
   "outputs": [],
   "source": [
    "patient1 = Patient('uncle','jamali',48,'ajeeb')"
   ]
  },
  {
   "cell_type": "code",
   "execution_count": 14,
   "metadata": {},
   "outputs": [
    {
     "name": "stdout",
     "output_type": "stream",
     "text": [
      "uncle\n"
     ]
    }
   ],
   "source": [
    "print(patient1.name)\n"
   ]
  },
  {
   "cell_type": "code",
   "execution_count": 15,
   "metadata": {},
   "outputs": [
    {
     "name": "stdout",
     "output_type": "stream",
     "text": [
      "uncleis taking medicine\n"
     ]
    }
   ],
   "source": [
    "patient1.takes_medicine()"
   ]
  },
  {
   "cell_type": "code",
   "execution_count": 26,
   "metadata": {},
   "outputs": [],
   "source": [
    "def Sayifminor(fname,lname,age):\n",
    "    if age<21:\n",
    "        print(f\"{fname} {lname} is a minor\")\n",
    "    else :\n",
    "        print(f\"{fname} {lname} is a major\")\n",
    "        "
   ]
  },
  {
   "cell_type": "code",
   "execution_count": 27,
   "metadata": {},
   "outputs": [
    {
     "name": "stdout",
     "output_type": "stream",
     "text": [
      "uncle jamali is a major\n"
     ]
    }
   ],
   "source": [
    "sayifminor(patient1.name,patient1.last_name,patient1.age)"
   ]
  },
  {
   "cell_type": "code",
   "execution_count": 32,
   "metadata": {},
   "outputs": [],
   "source": [
    "patient1.last_name = \"jameel\"\n",
    "patient1.age = 20"
   ]
  },
  {
   "cell_type": "code",
   "execution_count": 33,
   "metadata": {},
   "outputs": [
    {
     "name": "stdout",
     "output_type": "stream",
     "text": [
      "uncle jameel is a minor\n"
     ]
    }
   ],
   "source": [
    "sayifminor(patient1.name,patient1.last_name,patient1.age)"
   ]
  },
  {
   "cell_type": "code",
   "execution_count": 34,
   "metadata": {},
   "outputs": [],
   "source": [
    "class Dog():\n",
    "    def __init__(self,name,age):\n",
    "        ###initialinzing name & age\n",
    "        self.name = name\n",
    "        self.age = age\n",
    "        \n",
    "    def sit(self):\n",
    "        ###simulate a dog sitting in response to a command\n",
    "        print(self.name.title()+\"is now sitting\")\n",
    "    def roll_over(self):\n",
    "        ###simulate a dog rolling over in response to a command\n",
    "        print(self.name.title()+\"is now rolling over\")\n",
    "        "
   ]
  },
  {
   "cell_type": "code",
   "execution_count": 35,
   "metadata": {},
   "outputs": [],
   "source": [
    "mydog = dog(\"willie\",6)"
   ]
  },
  {
   "cell_type": "code",
   "execution_count": 36,
   "metadata": {},
   "outputs": [
    {
     "name": "stdout",
     "output_type": "stream",
     "text": [
      "Willieis now sitting\n"
     ]
    }
   ],
   "source": [
    "mydog.sit()"
   ]
  },
  {
   "cell_type": "code",
   "execution_count": 38,
   "metadata": {},
   "outputs": [
    {
     "name": "stdout",
     "output_type": "stream",
     "text": [
      "Willieis now rolling over\n"
     ]
    }
   ],
   "source": [
    "mydog.roll_over()"
   ]
  },
  {
   "cell_type": "code",
   "execution_count": 56,
   "metadata": {},
   "outputs": [],
   "source": [
    "class Restaurant():\n",
    "    def __init__(self,restaurant,cuisine_type):\n",
    "        self.r_name = restaurant\n",
    "        self.cuisine = cuisine_type\n",
    "    def describe_restaurant(self):\n",
    "        print(f\"the restaurant name is{self.r_name} and its cuisen type is{self.cuisine_type}\")\n",
    "    def open_restaurant(self):\n",
    "        print(\"restaurant is open\")\n",
    "\n"
   ]
  },
  {
   "cell_type": "code",
   "execution_count": 57,
   "metadata": {},
   "outputs": [],
   "source": [
    "rest1=Restaurant(\"hotel\",\"unknown\")\n",
    "rest2=Restaurant(\"motel\",\"pata nahi\")\n",
    "rest3=Restaurant(\"totel\",\"tum btado\")"
   ]
  },
  {
   "cell_type": "code",
   "execution_count": 60,
   "metadata": {},
   "outputs": [
    {
     "name": "stdout",
     "output_type": "stream",
     "text": [
      "😂😂😂😂😂😂\n"
     ]
    }
   ],
   "source": [
    "print(\"😂😂😂😂😂😂\")"
   ]
  },
  {
   "cell_type": "code",
   "execution_count": 1,
   "metadata": {},
   "outputs": [],
   "source": [
    "class Car():\n",
    "    def __init__(self,make,model,year):\n",
    "        self.make = make\n",
    "        self.model = model\n",
    "        self.year = year\n",
    "        self.odometer_reading=0\n",
    "        self.fuel = \"20ltr\"\n",
    "    def get_descriptive_name(self):\n",
    "        long_name = str(self.year)+' '+self.make+' '+self.model\n",
    "        return long_name.title()   \n",
    "    def get_reading(self):\n",
    "        return self.odometer_reading\n",
    "    def update_meter(self,mileage):\n",
    "        if(mileage >=self.odometer_reading):\n",
    "            self.odometer_reading  = mileage\n",
    "            print(\"meter has been updated\")\n",
    "        else:\n",
    "            print(\"can't roll back\")\n",
    "    def increament_reading(self,miles):\n",
    "        self.odometer_reading += miles\n",
    "    \n",
    "    def get_fuel(self):\n",
    "        print(self.fuel)\n",
    "\n"
   ]
  },
  {
   "cell_type": "code",
   "execution_count": 2,
   "metadata": {},
   "outputs": [],
   "source": [
    "newcar=Car(\"honda\",\"latest\",2019)"
   ]
  },
  {
   "cell_type": "code",
   "execution_count": 44,
   "metadata": {},
   "outputs": [
    {
     "name": "stdout",
     "output_type": "stream",
     "text": [
      "2016 Audi A4\n"
     ]
    }
   ],
   "source": [
    "my_new_car = Car('audi','a4',2016)\n",
    "print(my_new_car.get_descriptive_name())"
   ]
  },
  {
   "cell_type": "code",
   "execution_count": 45,
   "metadata": {},
   "outputs": [
    {
     "name": "stdout",
     "output_type": "stream",
     "text": [
      "2019\n",
      "2019 Honda Latest\n"
     ]
    }
   ],
   "source": [
    "print(newcar.year)\n",
    "print(newcar.get_descriptive_name())"
   ]
  },
  {
   "cell_type": "code",
   "execution_count": null,
   "metadata": {},
   "outputs": [],
   "source": [
    "anothercar = Car(\"toyota\",\"old\",\"2015\")"
   ]
  },
  {
   "cell_type": "code",
   "execution_count": 46,
   "metadata": {},
   "outputs": [
    {
     "ename": "NameError",
     "evalue": "name 'anothercar' is not defined",
     "output_type": "error",
     "traceback": [
      "\u001b[1;31m---------------------------------------------------------------------------\u001b[0m",
      "\u001b[1;31mNameError\u001b[0m                                 Traceback (most recent call last)",
      "\u001b[1;32m<ipython-input-46-656c66cccd31>\u001b[0m in \u001b[0;36m<module>\u001b[1;34m\u001b[0m\n\u001b[1;32m----> 1\u001b[1;33m \u001b[0manothercar\u001b[0m\u001b[1;33m.\u001b[0m\u001b[0mmodel\u001b[0m\u001b[1;33m\u001b[0m\u001b[1;33m\u001b[0m\u001b[0m\n\u001b[0m",
      "\u001b[1;31mNameError\u001b[0m: name 'anothercar' is not defined"
     ]
    }
   ],
   "source": [
    "anothercar.model"
   ]
  },
  {
   "cell_type": "code",
   "execution_count": null,
   "metadata": {},
   "outputs": [],
   "source": [
    "newcar.get_reading()"
   ]
  },
  {
   "cell_type": "code",
   "execution_count": null,
   "metadata": {},
   "outputs": [],
   "source": [
    "newcar.update_meter(10)"
   ]
  },
  {
   "cell_type": "code",
   "execution_count": null,
   "metadata": {},
   "outputs": [],
   "source": [
    "newcar.update_meter(5)"
   ]
  },
  {
   "cell_type": "code",
   "execution_count": null,
   "metadata": {},
   "outputs": [],
   "source": [
    "newcar.increament_reading(5)"
   ]
  },
  {
   "cell_type": "code",
   "execution_count": null,
   "metadata": {},
   "outputs": [],
   "source": [
    "newcar.get_reading()"
   ]
  },
  {
   "cell_type": "markdown",
   "metadata": {},
   "source": [
    "Inheritance"
   ]
  },
  {
   "cell_type": "code",
   "execution_count": 37,
   "metadata": {},
   "outputs": [],
   "source": [
    "class Electriccar(Car):        #child calls parent class\n",
    "    def __init__(self,make,model,year):\n",
    "        super().__init__(make,model,year) \n",
    "        self.battery = 70\n",
    "    def get_battery_watt(self):\n",
    "        print(self.battery)\n",
    "    def get_fuel(self):\n",
    "        print(\"this car has no fuel\")"
   ]
  },
  {
   "cell_type": "code",
   "execution_count": 38,
   "metadata": {},
   "outputs": [],
   "source": [
    "my_tesla = Electriccar(\"tesla\",\"latest\",\"2019\")"
   ]
  },
  {
   "cell_type": "code",
   "execution_count": 39,
   "metadata": {},
   "outputs": [
    {
     "data": {
      "text/plain": [
       "'latest'"
      ]
     },
     "execution_count": 39,
     "metadata": {},
     "output_type": "execute_result"
    }
   ],
   "source": [
    "my_tesla.model"
   ]
  },
  {
   "cell_type": "code",
   "execution_count": 40,
   "metadata": {},
   "outputs": [
    {
     "data": {
      "text/plain": [
       "'2019 Tesla Latest'"
      ]
     },
     "execution_count": 40,
     "metadata": {},
     "output_type": "execute_result"
    }
   ],
   "source": [
    "my_tesla.get_descriptive_name()"
   ]
  },
  {
   "cell_type": "code",
   "execution_count": 41,
   "metadata": {},
   "outputs": [
    {
     "name": "stdout",
     "output_type": "stream",
     "text": [
      "this car has no fuel\n"
     ]
    }
   ],
   "source": [
    "my_tesla.get_fuel()"
   ]
  },
  {
   "cell_type": "code",
   "execution_count": 28,
   "metadata": {},
   "outputs": [
    {
     "name": "stdout",
     "output_type": "stream",
     "text": [
      "70\n"
     ]
    }
   ],
   "source": [
    "my_tesla.get_battery_watt()"
   ]
  },
  {
   "cell_type": "code",
   "execution_count": 30,
   "metadata": {},
   "outputs": [],
   "source": [
    "#agar parent class ka koi attribute nhi chahye to methode over\n",
    "#it modifies"
   ]
  },
  {
   "cell_type": "markdown",
   "metadata": {},
   "source": [
    "# exercise"
   ]
  },
  {
   "cell_type": "code",
   "execution_count": 61,
   "metadata": {},
   "outputs": [],
   "source": [
    "class Restaurant():\n",
    "    def __init__(self,restaurant,cuisine_type):\n",
    "        self.r_name = restaurant\n",
    "        self.cuisine = cuisine_type\n",
    "        self.num = number_served\n",
    "    def describe_restaurant(self):\n",
    "        print(f\"the restaurant name is{self.r_name} and its cuisen type is{self.cuisine_type}\")\n",
    "    def open_restaurant(self):\n",
    "        print(\"restaurant is open\")\n",
    "        \n",
    "        "
   ]
  },
  {
   "cell_type": "code",
   "execution_count": null,
   "metadata": {},
   "outputs": [],
   "source": []
  }
 ],
 "metadata": {
  "kernelspec": {
   "display_name": "Python 3",
   "language": "python",
   "name": "python3"
  }
 },
 "nbformat": 4,
 "nbformat_minor": 2
}
