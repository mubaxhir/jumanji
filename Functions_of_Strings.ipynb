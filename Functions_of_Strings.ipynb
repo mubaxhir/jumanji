{
 "cells": [
  {
   "cell_type": "code",
   "execution_count": 1,
   "metadata": {},
   "outputs": [
    {
     "name": "stdout",
     "output_type": "stream",
     "text": [
      "12\n"
     ]
    }
   ],
   "source": [
    "#len\n",
    "name=\"fahad shaikh\"\n",
    "print(len(name))"
   ]
  },
  {
   "cell_type": "code",
   "execution_count": 17,
   "metadata": {},
   "outputs": [
    {
     "name": "stdout",
     "output_type": "stream",
     "text": [
      " fahad shaikh \n",
      "fahad shaikh\n",
      " faisal shaikh\n",
      "faisal shaikh\n",
      "Nasir Hussain \n",
      "Nasir Hussain\n"
     ]
    }
   ],
   "source": [
    "#strip (removing space from both sides)\n",
    "n=\" fahad shaikh \"\n",
    "n1=n.strip()#you can not pass variable name in this function rather can use through concatenate \n",
    "print(n)\n",
    "print(n1)\n",
    "\n",
    "m=\" faisal shaikh\"\n",
    "m1=m.lstrip()#removes space from left side only\n",
    "print(m)\n",
    "print(m1)\n",
    "\n",
    "l=\"Nasir Hussain \"\n",
    "l1=l.rstrip()#removes space from right side only\n",
    "print(l)\n",
    "print(l1)"
   ]
  },
  {
   "cell_type": "code",
   "execution_count": 5,
   "metadata": {},
   "outputs": [
    {
     "name": "stdout",
     "output_type": "stream",
     "text": [
      "6\n",
      "-1\n",
      "2\n",
      "11\n"
     ]
    }
   ],
   "source": [
    "#find()Returns index of first occurrence of the given substring. If it is not available then we will get -1.\n",
    "a=\"fahad shaikh\"\n",
    "b=a.find('s')\n",
    "print(b)\n",
    "c=a.find('z')\n",
    "print(c)\n",
    "\n",
    "#find(substring,begin,end)\n",
    "d=a.find('h',1,4)\n",
    "print(d)\n",
    "\n",
    "#for backward direction: it will start to find given substring from backward (right to left)\n",
    "e=a.rfind('h')\n",
    "print(e)\n"
   ]
  },
  {
   "cell_type": "code",
   "execution_count": 8,
   "metadata": {},
   "outputs": [
    {
     "name": "stdout",
     "output_type": "stream",
     "text": [
      "4\n"
     ]
    },
    {
     "ename": "ValueError",
     "evalue": "substring not found",
     "output_type": "error",
     "traceback": [
      "\u001b[1;31m---------------------------------------------------------------------------\u001b[0m",
      "\u001b[1;31mValueError\u001b[0m                                Traceback (most recent call last)",
      "\u001b[1;32m<ipython-input-8-a8ebdd04f7bc>\u001b[0m in \u001b[0;36m<module>\u001b[1;34m\u001b[0m\n\u001b[0;32m      3\u001b[0m \u001b[0ms\u001b[0m\u001b[1;33m=\u001b[0m\u001b[0mstring\u001b[0m\u001b[1;33m.\u001b[0m\u001b[0mindex\u001b[0m\u001b[1;33m(\u001b[0m\u001b[1;34m'd'\u001b[0m\u001b[1;33m)\u001b[0m\u001b[1;33m\u001b[0m\u001b[1;33m\u001b[0m\u001b[0m\n\u001b[0;32m      4\u001b[0m \u001b[0mprint\u001b[0m\u001b[1;33m(\u001b[0m\u001b[0ms\u001b[0m\u001b[1;33m)\u001b[0m\u001b[1;33m\u001b[0m\u001b[1;33m\u001b[0m\u001b[0m\n\u001b[1;32m----> 5\u001b[1;33m \u001b[0my\u001b[0m\u001b[1;33m=\u001b[0m\u001b[0mstring\u001b[0m\u001b[1;33m.\u001b[0m\u001b[0mindex\u001b[0m\u001b[1;33m(\u001b[0m\u001b[1;34m'z'\u001b[0m\u001b[1;33m)\u001b[0m\u001b[1;33m\u001b[0m\u001b[1;33m\u001b[0m\u001b[0m\n\u001b[0m\u001b[0;32m      6\u001b[0m \u001b[0mprint\u001b[0m\u001b[1;33m(\u001b[0m\u001b[0my\u001b[0m\u001b[1;33m)\u001b[0m\u001b[1;33m\u001b[0m\u001b[1;33m\u001b[0m\u001b[0m\n",
      "\u001b[1;31mValueError\u001b[0m: substring not found"
     ]
    }
   ],
   "source": [
    "#index(): exactly same as find() except tha if the given substring is not available then, will get error.\n",
    "string=\"fahad shaikh\"\n",
    "s=string.index('d')\n",
    "print(s)\n",
    "y=string.index('z')\n",
    "print(y)"
   ]
  },
  {
   "cell_type": "code",
   "execution_count": 9,
   "metadata": {},
   "outputs": [
    {
     "name": "stdout",
     "output_type": "stream",
     "text": [
      "2\n"
     ]
    }
   ],
   "source": [
    "#count(): number of occurrences of substring present in the given string\n",
    "fri=\"nouman shaikh\"\n",
    "f=fri.count('a')\n",
    "print(f)"
   ]
  },
  {
   "cell_type": "code",
   "execution_count": 10,
   "metadata": {},
   "outputs": [
    {
     "name": "stdout",
     "output_type": "stream",
     "text": [
      "fahad\n",
      "faisal\n"
     ]
    }
   ],
   "source": [
    "#replace(): old String will be replaced with new String\n",
    "old_string=\"fahad\"\n",
    "print(old_string)\n",
    "n=old_string.replace(\"fahad\", \"faisal\")\n",
    "print(n)#replaced\n"
   ]
  },
  {
   "cell_type": "code",
   "execution_count": 13,
   "metadata": {},
   "outputs": [
    {
     "name": "stdout",
     "output_type": "stream",
     "text": [
      "fahadullah shaikh\n",
      "['fahadullah', 'shaikh']\n"
     ]
    }
   ],
   "source": [
    "fname=\"fahadullah shaikh\"\n",
    "lname=fname.split()\n",
    "print(fname)\n",
    "print(lname)"
   ]
  },
  {
   "cell_type": "code",
   "execution_count": 20,
   "metadata": {},
   "outputs": [
    {
     "name": "stdout",
     "output_type": "stream",
     "text": [
      "nouman,shakeel,shahzad,asif\n"
     ]
    }
   ],
   "source": [
    "#joint()\n",
    "\n",
    "friends=(\"nouman\", \"shakeel\", \"shahzad\", \"asif\")\n",
    "friend = ','.join(friends)\n",
    "print(friend)"
   ]
  },
  {
   "cell_type": "code",
   "execution_count": 25,
   "metadata": {},
   "outputs": [
    {
     "name": "stdout",
     "output_type": "stream",
     "text": [
      "MY NAME IS FAHADULLAH SHAIKH\n",
      "my name is fahadullah shaikh\n",
      "mY NAME IS FAHADULLAH SHAIKH\n",
      "My name is fahadullah shaikh\n",
      "My Name Is Fahadullah Shaikh\n"
     ]
    }
   ],
   "source": [
    "full_name=\"My name is fahadullah shaikh\"\n",
    "print(full_name.upper())\n",
    "print(full_name.lower())\n",
    "print(full_name.swapcase())\n",
    "print(full_name.capitalize())\n",
    "print(full_name.title())"
   ]
  },
  {
   "cell_type": "code",
   "execution_count": 29,
   "metadata": {},
   "outputs": [
    {
     "name": "stdout",
     "output_type": "stream",
     "text": [
      "True\n",
      "True\n",
      "False\n"
     ]
    }
   ],
   "source": [
    "fullname=\"fahad shaikh\"\n",
    "print(fullname.startswith(\"fahad\"))\n",
    "print(fullname.endswith(\"shaikh\"))\n",
    "print(fullname.startswith('faisal'))"
   ]
  },
  {
   "cell_type": "code",
   "execution_count": 36,
   "metadata": {},
   "outputs": [
    {
     "name": "stdout",
     "output_type": "stream",
     "text": [
      "True\n",
      "True\n",
      "False\n",
      "True\n"
     ]
    }
   ],
   "source": [
    "\n",
    "print('fahad101'.isalnum()) #isalnum()alphanumeric( a to z , A to Z ,0 to9 )\n",
    "print('fahad'.isalpha()) #isalpha()alphabet symbols(a to z,A to Z)\n",
    "print('shaikh'.isdigit()) #digits only( 0 to 9)\n",
    "print('12345'.isdigit())\n"
   ]
  },
  {
   "cell_type": "code",
   "execution_count": null,
   "metadata": {},
   "outputs": [],
   "source": []
  }
 ],
 "metadata": {
  "kernelspec": {
   "display_name": "Python 3",
   "language": "python",
   "name": "python3"
  },
  "language_info": {
   "codemirror_mode": {
    "name": "ipython",
    "version": 3
   },
   "file_extension": ".py",
   "mimetype": "text/x-python",
   "name": "python",
   "nbconvert_exporter": "python",
   "pygments_lexer": "ipython3",
   "version": "3.7.1"
  }
 },
 "nbformat": 4,
 "nbformat_minor": 2
}
