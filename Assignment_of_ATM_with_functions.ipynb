{
 "cells": [
  {
   "cell_type": "code",
   "execution_count": 22,
   "metadata": {
    "scrolled": true
   },
   "outputs": [
    {
     "name": "stdout",
     "output_type": "stream",
     "text": [
      "    ATM  Machine  \n",
      "\n",
      "To deposit type: d\n",
      "\n",
      "To withdraw type: w\n",
      "\n",
      "Enter transaction type here: w\n",
      " enter your amount here 500\n",
      "your amount is  1000\n",
      "your withdraw amount is  500\n",
      "your remaining amount in account is  500\n"
     ]
    }
   ],
   "source": [
    "print(\"    ATM  Machine  \")\n",
    "print('''\n",
    "To deposit type: d\n",
    "\n",
    "To withdraw type: w\n",
    "''')\n",
    "global amount,add,sub,total\n",
    "amount=1000\n",
    "\n",
    "#functions\n",
    "def deposit():\n",
    "    print('your amount is ', str(amount))\n",
    "    print('your deposited amount is ', str(add))\n",
    "    total=amount+add\n",
    "    print('your total amount in account is ', str(total))\n",
    "\n",
    "\n",
    "def withdraw():\n",
    "    print('your amount is ', str(amount))\n",
    "    if amount<sub:\n",
    "        print('you do not have enough amount in account')\n",
    "    elif amount>sub:\n",
    "        print('your withdraw amount is ', str(sub))\n",
    "        total=amount-sub\n",
    "        print('your remaining amount in account is ', str(total))\n",
    "    else:\n",
    "        print('transaction failed ')\n",
    "\n",
    "    \n",
    "    \n",
    "transaction=input(\"Enter transaction type here: \")\n",
    "\n",
    "if transaction.lower()=='d':\n",
    "    add=int(input(\"type your amount here \"))\n",
    "    deposit()\n",
    "    \n",
    "elif transaction.lower()=='w':\n",
    "    sub=int(input(\" enter your amount here \"))\n",
    "    withdraw()\n",
    "        \n",
    "\n",
    "\n"
   ]
  },
  {
   "cell_type": "code",
   "execution_count": null,
   "metadata": {},
   "outputs": [],
   "source": []
  }
 ],
 "metadata": {
  "kernelspec": {
   "display_name": "Python 3",
   "language": "python",
   "name": "python3"
  },
  "language_info": {
   "codemirror_mode": {
    "name": "ipython",
    "version": 3
   },
   "file_extension": ".py",
   "mimetype": "text/x-python",
   "name": "python",
   "nbconvert_exporter": "python",
   "pygments_lexer": "ipython3",
   "version": "3.7.1"
  }
 },
 "nbformat": 4,
 "nbformat_minor": 2
}
